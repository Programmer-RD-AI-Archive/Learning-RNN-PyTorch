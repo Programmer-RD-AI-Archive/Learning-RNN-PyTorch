{
 "cells": [
  {
   "cell_type": "code",
   "execution_count": 1,
   "id": "799c49d4-d8b5-4808-8ca4-e1600ba0e56d",
   "metadata": {},
   "outputs": [
    {
     "name": "stdout",
     "output_type": "stream",
     "text": [
      "abcdefghijklmnopqrstuvwxyzABCDEFGHIJKLMNOPQRSTUVWXYZ .,;'\n",
      "Slusarski\n",
      "['Abandonato', 'Abatangelo', 'Abatantuono', 'Abate', 'Abategiovanni']\n",
      "tensor([[0., 0., 0., 0., 0., 0., 0., 0., 0., 0., 0., 0., 0., 0., 0., 0., 0., 0.,\n",
      "         0., 0., 0., 0., 0., 0., 0., 0., 0., 0., 0., 0., 0., 0., 0., 0., 0., 1.,\n",
      "         0., 0., 0., 0., 0., 0., 0., 0., 0., 0., 0., 0., 0., 0., 0., 0., 0., 0.,\n",
      "         0., 0., 0.]])\n",
      "tensor([[[0., 0., 0., 0., 0., 0., 0., 0., 0., 0., 0., 0., 0., 0., 0., 0., 0.,\n",
      "          0., 0., 0., 0., 0., 0., 0., 0., 0., 0., 0., 0., 0., 0., 0., 0., 0.,\n",
      "          0., 1., 0., 0., 0., 0., 0., 0., 0., 0., 0., 0., 0., 0., 0., 0., 0.,\n",
      "          0., 0., 0., 0., 0., 0.]],\n",
      "\n",
      "        [[0., 0., 0., 0., 0., 0., 0., 0., 0., 0., 0., 0., 0., 0., 1., 0., 0.,\n",
      "          0., 0., 0., 0., 0., 0., 0., 0., 0., 0., 0., 0., 0., 0., 0., 0., 0.,\n",
      "          0., 0., 0., 0., 0., 0., 0., 0., 0., 0., 0., 0., 0., 0., 0., 0., 0.,\n",
      "          0., 0., 0., 0., 0., 0.]],\n",
      "\n",
      "        [[0., 0., 0., 0., 0., 0., 0., 0., 0., 0., 0., 0., 0., 1., 0., 0., 0.,\n",
      "          0., 0., 0., 0., 0., 0., 0., 0., 0., 0., 0., 0., 0., 0., 0., 0., 0.,\n",
      "          0., 0., 0., 0., 0., 0., 0., 0., 0., 0., 0., 0., 0., 0., 0., 0., 0.,\n",
      "          0., 0., 0., 0., 0., 0.]],\n",
      "\n",
      "        [[0., 0., 0., 0., 1., 0., 0., 0., 0., 0., 0., 0., 0., 0., 0., 0., 0.,\n",
      "          0., 0., 0., 0., 0., 0., 0., 0., 0., 0., 0., 0., 0., 0., 0., 0., 0.,\n",
      "          0., 0., 0., 0., 0., 0., 0., 0., 0., 0., 0., 0., 0., 0., 0., 0., 0.,\n",
      "          0., 0., 0., 0., 0., 0.]],\n",
      "\n",
      "        [[0., 0., 0., 0., 0., 0., 0., 0., 0., 0., 0., 0., 0., 0., 0., 0., 0.,\n",
      "          0., 1., 0., 0., 0., 0., 0., 0., 0., 0., 0., 0., 0., 0., 0., 0., 0.,\n",
      "          0., 0., 0., 0., 0., 0., 0., 0., 0., 0., 0., 0., 0., 0., 0., 0., 0.,\n",
      "          0., 0., 0., 0., 0., 0.]]])\n"
     ]
    }
   ],
   "source": [
    "# data: https://download.pytorch.org/tutorial/data.zip\n",
    "import io\n",
    "import os\n",
    "import unicodedata\n",
    "import string\n",
    "import glob\n",
    "\n",
    "import torch\n",
    "import random\n",
    "\n",
    "# alphabet small + capital letters + \" .,;'\"\n",
    "ALL_LETTERS = string.ascii_letters + \" .,;'\"\n",
    "N_LETTERS = len(ALL_LETTERS)\n",
    "\n",
    "# Turn a Unicode string to plain ASCII, thanks to https://stackoverflow.com/a/518232/2809427\n",
    "def unicode_to_ascii(s):\n",
    "    return ''.join(\n",
    "        c for c in unicodedata.normalize('NFD', s)\n",
    "        if unicodedata.category(c) != 'Mn'\n",
    "        and c in ALL_LETTERS\n",
    "    )\n",
    "\n",
    "def load_data():\n",
    "    # Build the category_lines dictionary, a list of names per language\n",
    "    category_lines = {}\n",
    "    all_categories = []\n",
    "    \n",
    "    def find_files(path):\n",
    "        return glob.glob(path)\n",
    "    \n",
    "    # Read a file and split into lines\n",
    "    def read_lines(filename):\n",
    "        lines = io.open(filename, encoding='utf-8').read().strip().split('\\n')\n",
    "        return [unicode_to_ascii(line) for line in lines]\n",
    "    \n",
    "    for filename in find_files('data/names/*.txt'):\n",
    "        category = os.path.splitext(os.path.basename(filename))[0]\n",
    "        all_categories.append(category)\n",
    "        \n",
    "        lines = read_lines(filename)\n",
    "        category_lines[category] = lines\n",
    "        \n",
    "    return category_lines, all_categories\n",
    "\n",
    "\n",
    "\n",
    "# Find letter index from all_letters, e.g. \"a\" = 0\n",
    "def letter_to_index(letter):\n",
    "    return ALL_LETTERS.find(letter)\n",
    "\n",
    "# Just for demonstration, turn a letter into a <1 x n_letters> Tensor\n",
    "def letter_to_tensor(letter):\n",
    "    tensor = torch.zeros(1, N_LETTERS)\n",
    "    tensor[0][letter_to_index(letter)] = 1\n",
    "    return tensor\n",
    "\n",
    "# Turn a line into a <line_length x 1 x n_letters>,\n",
    "# or an array of one-hot letter vectors\n",
    "def line_to_tensor(line):\n",
    "    tensor = torch.zeros(len(line), 1, N_LETTERS)\n",
    "    for i, letter in enumerate(line):\n",
    "        tensor[i][0][letter_to_index(letter)] = 1\n",
    "    return tensor\n",
    "\n",
    "\n",
    "def random_training_example(category_lines, all_categories):\n",
    "    \n",
    "    def random_choice(a):\n",
    "        random_idx = random.randint(0, len(a) - 1)\n",
    "        return a[random_idx]\n",
    "    \n",
    "    category = random_choice(all_categories)\n",
    "    line = random_choice(category_lines[category])\n",
    "    category_tensor = torch.tensor([all_categories.index(category)], dtype=torch.long)\n",
    "    line_tensor = line_to_tensor(line)\n",
    "    return category, line, category_tensor, line_tensor\n",
    "\n",
    "\n",
    "\n",
    "if __name__ == '__main__':\n",
    "    print(ALL_LETTERS)\n",
    "    print(unicode_to_ascii('Ślusàrski'))\n",
    "    \n",
    "    category_lines, all_categories = load_data()\n",
    "    print(category_lines['Italian'][:5])\n",
    "    \n",
    "    print(letter_to_tensor('J')) # [1, 57]\n",
    "    print(line_to_tensor('Jones')) # [5, 1, 57]"
   ]
  },
  {
   "cell_type": "code",
   "execution_count": 2,
   "id": "7ade4fb4-44a0-44a2-99f3-7f9918e0cf24",
   "metadata": {},
   "outputs": [],
   "source": [
    "import torch\n",
    "import torchvision\n",
    "import torch.nn as nn\n",
    "import matplotlib.pyplot as plt"
   ]
  },
  {
   "cell_type": "code",
   "execution_count": 3,
   "id": "a2d298d2-8b4d-4278-93a8-ec242ff10a1a",
   "metadata": {},
   "outputs": [],
   "source": [
    "class RNN(nn.Module):\n",
    "    def __init__(self,input_size,hidden_size,output_size):\n",
    "        super().__init__()\n",
    "        self.hidden_size = hidden_size\n",
    "        self.i2h = nn.Linear(input_size + hidden_size,hidden_size)\n",
    "        self.i2o = nn.Linear(input_size + hidden_size,output_size)\n",
    "        self.softmax = nn.LogSoftmax(dim=1) # 1,57\n",
    "        \n",
    "    def forward(self,input_tensor,hidden_tensor):\n",
    "        combined = torch.cat((input_tensor,hidden_tensor),1)\n",
    "        hidden = self.i2h(combined)\n",
    "        output = self.i2o(combined)\n",
    "        output = self.softmax(output)\n",
    "        return output,hidden\n",
    "    \n",
    "    def init_hidden(self):\n",
    "        return torch.zeros(1,self.hidden_size)"
   ]
  },
  {
   "cell_type": "code",
   "execution_count": 4,
   "id": "9964ebf2-51e2-4820-ac83-3f292aa55569",
   "metadata": {},
   "outputs": [],
   "source": [
    "category_lines,all_categories = load_data()"
   ]
  },
  {
   "cell_type": "code",
   "execution_count": 5,
   "id": "db074c94-4615-4067-91ce-7822817287ec",
   "metadata": {},
   "outputs": [],
   "source": [
    "n_categories = len(all_categories)"
   ]
  },
  {
   "cell_type": "code",
   "execution_count": 6,
   "id": "d2ce2f69-0acb-4be3-8e1f-5d7d36b285bc",
   "metadata": {},
   "outputs": [
    {
     "data": {
      "text/plain": [
       "57"
      ]
     },
     "execution_count": 6,
     "metadata": {},
     "output_type": "execute_result"
    }
   ],
   "source": [
    "N_LETTERS"
   ]
  },
  {
   "cell_type": "code",
   "execution_count": 7,
   "id": "ca52dcc7-36f4-43ab-90af-be01b9b2979f",
   "metadata": {},
   "outputs": [],
   "source": [
    "n_hidden = 128"
   ]
  },
  {
   "cell_type": "code",
   "execution_count": 8,
   "id": "ce294a1d-9ccb-45a8-a7fe-c50b46b7d126",
   "metadata": {},
   "outputs": [],
   "source": [
    "rnn = RNN(N_LETTERS,n_hidden,n_categories)"
   ]
  },
  {
   "cell_type": "code",
   "execution_count": 9,
   "id": "fabb6ac8-92df-4509-b0aa-76672bd3bc84",
   "metadata": {},
   "outputs": [],
   "source": [
    "input_tensor = letter_to_tensor('A')"
   ]
  },
  {
   "cell_type": "code",
   "execution_count": 10,
   "id": "334a792d-5059-43c3-9f14-0755b14c9f5b",
   "metadata": {},
   "outputs": [],
   "source": [
    "hidden_tensor = rnn.init_hidden()"
   ]
  },
  {
   "cell_type": "code",
   "execution_count": 11,
   "id": "fc231a58-bc96-4ff2-ae03-ba2d451c9ed6",
   "metadata": {},
   "outputs": [],
   "source": [
    "output,next_hidden = rnn(input_tensor,hidden_tensor)"
   ]
  },
  {
   "cell_type": "code",
   "execution_count": 12,
   "id": "3d192676-c705-41e3-ab34-c20f3d89ab93",
   "metadata": {},
   "outputs": [
    {
     "data": {
      "text/plain": [
       "torch.Size([1, 18])"
      ]
     },
     "execution_count": 12,
     "metadata": {},
     "output_type": "execute_result"
    }
   ],
   "source": [
    "output.shape"
   ]
  },
  {
   "cell_type": "code",
   "execution_count": 13,
   "id": "1f416dea-0384-4dcf-ba1f-3c68063ad87c",
   "metadata": {},
   "outputs": [
    {
     "data": {
      "text/plain": [
       "torch.Size([1, 128])"
      ]
     },
     "execution_count": 13,
     "metadata": {},
     "output_type": "execute_result"
    }
   ],
   "source": [
    "next_hidden.shape"
   ]
  },
  {
   "cell_type": "code",
   "execution_count": 14,
   "id": "053e207b-b440-4a96-affc-4827681013bf",
   "metadata": {},
   "outputs": [],
   "source": [
    "input_tensor = line_to_tensor('Ranuga')\n",
    "hidden_tensor = rnn.init_hidden()\n",
    "output,next_hidden = rnn(input_tensor[0],hidden_tensor)"
   ]
  },
  {
   "cell_type": "code",
   "execution_count": 15,
   "id": "5c25aa76-9fc8-412d-84c9-7958771c1db0",
   "metadata": {},
   "outputs": [],
   "source": [
    "def category_from_output(output):\n",
    "    category_idx = torch.argmax(output).item()\n",
    "    return all_categories[category_idx]"
   ]
  },
  {
   "cell_type": "code",
   "execution_count": 16,
   "id": "9f46674a-95f6-4c64-9b6f-38c80b214897",
   "metadata": {},
   "outputs": [
    {
     "data": {
      "text/plain": [
       "'Italian'"
      ]
     },
     "execution_count": 16,
     "metadata": {},
     "output_type": "execute_result"
    }
   ],
   "source": [
    "category_from_output(output)"
   ]
  },
  {
   "cell_type": "code",
   "execution_count": 17,
   "id": "855da265-bcca-47cd-ba8a-c59d78017333",
   "metadata": {},
   "outputs": [],
   "source": [
    "criterion = nn.NLLLoss()"
   ]
  },
  {
   "cell_type": "code",
   "execution_count": 18,
   "id": "0c2d620a-0ea0-4a15-a656-52929e7e9f2e",
   "metadata": {},
   "outputs": [],
   "source": [
    "lr = 0.005"
   ]
  },
  {
   "cell_type": "code",
   "execution_count": 19,
   "id": "5abd2d3b-61d1-4be0-8be2-cb51336d4452",
   "metadata": {},
   "outputs": [],
   "source": [
    "optimizer = torch.optim.SGD(rnn.parameters(),lr=lr)"
   ]
  },
  {
   "cell_type": "code",
   "execution_count": 20,
   "id": "edc509b4-581b-4d8d-9937-9fa17e356a59",
   "metadata": {},
   "outputs": [],
   "source": [
    "epochs = 100"
   ]
  },
  {
   "cell_type": "code",
   "execution_count": 21,
   "id": "c0ac49a8-61a5-49eb-835d-59f54d3ca3dd",
   "metadata": {},
   "outputs": [],
   "source": [
    "def train(line_tensor,category_tensor):\n",
    "    hidden = rnn.init_hidden()\n",
    "    for i in range(line_tensor.size()[0]):\n",
    "        output,hidden = rnn(line_tensor[i],hidden)\n",
    "    loss = criterion(output,category_tensor)\n",
    "    optimizer.zero_grad()\n",
    "    loss.backward()\n",
    "    optimizer.step()\n",
    "    return output,loss.item()"
   ]
  },
  {
   "cell_type": "code",
   "execution_count": 22,
   "id": "e863e284-899f-4945-b2cb-78cb4b3b7866",
   "metadata": {},
   "outputs": [],
   "source": [
    "current_loss = 0\n",
    "all_losses = []"
   ]
  },
  {
   "cell_type": "code",
   "execution_count": 23,
   "id": "493394ec-e8b3-4212-9834-22c79a87b1b0",
   "metadata": {},
   "outputs": [],
   "source": [
    "plot_steps,print_steps = 1000,5000"
   ]
  },
  {
   "cell_type": "code",
   "execution_count": 24,
   "id": "edf6a88e-1289-4c7c-b478-8e844c682fc3",
   "metadata": {},
   "outputs": [],
   "source": [
    "n_iters = 1000000"
   ]
  },
  {
   "cell_type": "code",
   "execution_count": 26,
   "id": "488b947b-9fc8-4cfe-8632-29fa21002707",
   "metadata": {},
   "outputs": [],
   "source": [
    "from tqdm import tqdm"
   ]
  },
  {
   "cell_type": "code",
   "execution_count": null,
   "id": "5fc81658-b849-4d66-b2b8-752db29317d3",
   "metadata": {},
   "outputs": [
    {
     "name": "stderr",
     "output_type": "stream",
     "text": [
      "  1%|          | 5152/1000000 [00:04<15:28, 1071.69it/s]"
     ]
    },
    {
     "name": "stdout",
     "output_type": "stream",
     "text": [
      "4999/1000000 | 2.704515218734741 Medeiros | Greek Portuguese | WRONG (Guess : Greek | Acctual : Portuguese)\n"
     ]
    },
    {
     "name": "stderr",
     "output_type": "stream",
     "text": [
      "  1%|          | 10145/1000000 [00:09<15:06, 1091.72it/s]"
     ]
    },
    {
     "name": "stdout",
     "output_type": "stream",
     "text": [
      "9999/1000000 | 0.8876245617866516 Panoulias | Greek Greek | CORRECT\n"
     ]
    },
    {
     "name": "stderr",
     "output_type": "stream",
     "text": [
      "  2%|▏         | 15178/1000000 [00:14<15:07, 1085.42it/s]"
     ]
    },
    {
     "name": "stdout",
     "output_type": "stream",
     "text": [
      "14999/1000000 | 2.4915952682495117 Kozumplikova | French Czech | WRONG (Guess : French | Acctual : Czech)\n"
     ]
    },
    {
     "name": "stderr",
     "output_type": "stream",
     "text": [
      "  2%|▏         | 20187/1000000 [00:18<15:05, 1081.80it/s]"
     ]
    },
    {
     "name": "stdout",
     "output_type": "stream",
     "text": [
      "19999/1000000 | 0.7686255574226379 Sheng | Chinese Chinese | CORRECT\n"
     ]
    },
    {
     "name": "stderr",
     "output_type": "stream",
     "text": [
      "  3%|▎         | 25197/1000000 [00:23<14:47, 1098.06it/s]"
     ]
    },
    {
     "name": "stdout",
     "output_type": "stream",
     "text": [
      "24999/1000000 | 1.4492430686950684 Adibekoff | Russian Russian | CORRECT\n"
     ]
    },
    {
     "name": "stderr",
     "output_type": "stream",
     "text": [
      "  3%|▎         | 30200/1000000 [00:27<14:34, 1108.88it/s]"
     ]
    },
    {
     "name": "stdout",
     "output_type": "stream",
     "text": [
      "29999/1000000 | 1.3047791719436646 Niall | Irish Irish | CORRECT\n"
     ]
    },
    {
     "name": "stderr",
     "output_type": "stream",
     "text": [
      "  4%|▎         | 35213/1000000 [00:32<15:01, 1070.28it/s]"
     ]
    },
    {
     "name": "stdout",
     "output_type": "stream",
     "text": [
      "34999/1000000 | 1.2435686588287354 Achteren | Dutch Dutch | CORRECT\n"
     ]
    },
    {
     "name": "stderr",
     "output_type": "stream",
     "text": [
      "  4%|▍         | 40169/1000000 [00:37<14:42, 1087.89it/s]"
     ]
    },
    {
     "name": "stdout",
     "output_type": "stream",
     "text": [
      "39999/1000000 | 1.6188135147094727 Cockle | English English | CORRECT\n"
     ]
    },
    {
     "name": "stderr",
     "output_type": "stream",
     "text": [
      "  5%|▍         | 45121/1000000 [00:41<14:46, 1076.65it/s]"
     ]
    },
    {
     "name": "stdout",
     "output_type": "stream",
     "text": [
      "44999/1000000 | 1.3436455726623535 Sebastiani | Japanese Italian | WRONG (Guess : Japanese | Acctual : Italian)\n"
     ]
    },
    {
     "name": "stderr",
     "output_type": "stream",
     "text": [
      "  5%|▌         | 50123/1000000 [00:46<14:35, 1085.19it/s]"
     ]
    },
    {
     "name": "stdout",
     "output_type": "stream",
     "text": [
      "49999/1000000 | 1.2966217994689941 Shalhoub | Arabic Arabic | CORRECT\n"
     ]
    },
    {
     "name": "stderr",
     "output_type": "stream",
     "text": [
      "  6%|▌         | 55185/1000000 [00:51<14:29, 1086.02it/s]"
     ]
    },
    {
     "name": "stdout",
     "output_type": "stream",
     "text": [
      "54999/1000000 | 4.061731338500977 Maly | Irish Czech | WRONG (Guess : Irish | Acctual : Czech)\n"
     ]
    },
    {
     "name": "stderr",
     "output_type": "stream",
     "text": [
      "  6%|▌         | 60166/1000000 [00:55<14:21, 1090.91it/s]"
     ]
    },
    {
     "name": "stdout",
     "output_type": "stream",
     "text": [
      "59999/1000000 | 2.2500391006469727 Arendonk | Italian Dutch | WRONG (Guess : Italian | Acctual : Dutch)\n"
     ]
    },
    {
     "name": "stderr",
     "output_type": "stream",
     "text": [
      "  7%|▋         | 65162/1000000 [01:00<14:16, 1090.93it/s]"
     ]
    },
    {
     "name": "stdout",
     "output_type": "stream",
     "text": [
      "64999/1000000 | 1.6926058530807495 Romeijn | Dutch Dutch | CORRECT\n"
     ]
    },
    {
     "name": "stderr",
     "output_type": "stream",
     "text": [
      "  7%|▋         | 70149/1000000 [01:04<14:09, 1095.09it/s]"
     ]
    },
    {
     "name": "stdout",
     "output_type": "stream",
     "text": [
      "69999/1000000 | 5.029425621032715 Ruzzier | German Italian | WRONG (Guess : German | Acctual : Italian)\n"
     ]
    },
    {
     "name": "stderr",
     "output_type": "stream",
     "text": [
      "  8%|▊         | 75116/1000000 [01:09<13:58, 1102.40it/s]"
     ]
    },
    {
     "name": "stdout",
     "output_type": "stream",
     "text": [
      "74999/1000000 | 0.5628539323806763 Azarola | Spanish Spanish | CORRECT\n"
     ]
    },
    {
     "name": "stderr",
     "output_type": "stream",
     "text": [
      "  8%|▊         | 80134/1000000 [01:13<14:09, 1083.46it/s]"
     ]
    },
    {
     "name": "stdout",
     "output_type": "stream",
     "text": [
      "79999/1000000 | 0.7785527110099792 Tamura | Japanese Japanese | CORRECT\n"
     ]
    },
    {
     "name": "stderr",
     "output_type": "stream",
     "text": [
      "  9%|▊         | 85192/1000000 [01:18<13:33, 1125.02it/s]"
     ]
    },
    {
     "name": "stdout",
     "output_type": "stream",
     "text": [
      "84999/1000000 | 0.23916968703269958 Iseya | Japanese Japanese | CORRECT\n"
     ]
    },
    {
     "name": "stderr",
     "output_type": "stream",
     "text": [
      "  9%|▉         | 90151/1000000 [01:22<13:46, 1100.91it/s]"
     ]
    },
    {
     "name": "stdout",
     "output_type": "stream",
     "text": [
      "89999/1000000 | 1.7265822887420654 Morgenstern | Dutch German | WRONG (Guess : Dutch | Acctual : German)\n"
     ]
    },
    {
     "name": "stderr",
     "output_type": "stream",
     "text": [
      " 10%|▉         | 95117/1000000 [01:27<13:30, 1116.89it/s]"
     ]
    },
    {
     "name": "stdout",
     "output_type": "stream",
     "text": [
      "94999/1000000 | 1.760408878326416 Gilder | Scottish English | WRONG (Guess : Scottish | Acctual : English)\n"
     ]
    },
    {
     "name": "stderr",
     "output_type": "stream",
     "text": [
      " 10%|█         | 100181/1000000 [01:31<13:09, 1139.34it/s]"
     ]
    },
    {
     "name": "stdout",
     "output_type": "stream",
     "text": [
      "99999/1000000 | 2.114992141723633 Dinko | Russian Czech | WRONG (Guess : Russian | Acctual : Czech)\n"
     ]
    },
    {
     "name": "stderr",
     "output_type": "stream",
     "text": [
      " 11%|█         | 105194/1000000 [01:36<13:49, 1078.53it/s]"
     ]
    },
    {
     "name": "stdout",
     "output_type": "stream",
     "text": [
      "104999/1000000 | 0.5543521046638489 Souza | Portuguese Portuguese | CORRECT\n"
     ]
    },
    {
     "name": "stderr",
     "output_type": "stream",
     "text": [
      " 11%|█         | 110132/1000000 [01:41<13:20, 1110.98it/s]"
     ]
    },
    {
     "name": "stdout",
     "output_type": "stream",
     "text": [
      "109999/1000000 | 2.6491169929504395 Roig | Korean Spanish | WRONG (Guess : Korean | Acctual : Spanish)\n"
     ]
    },
    {
     "name": "stderr",
     "output_type": "stream",
     "text": [
      " 12%|█▏        | 115101/1000000 [01:45<13:51, 1064.77it/s]"
     ]
    },
    {
     "name": "stdout",
     "output_type": "stream",
     "text": [
      "114999/1000000 | 4.23534631729126 Sano | Chinese Japanese | WRONG (Guess : Chinese | Acctual : Japanese)\n"
     ]
    },
    {
     "name": "stderr",
     "output_type": "stream",
     "text": [
      " 12%|█▏        | 120162/1000000 [01:50<14:19, 1023.84it/s]"
     ]
    },
    {
     "name": "stdout",
     "output_type": "stream",
     "text": [
      "119999/1000000 | 0.20072714984416962 Gomolka | Polish Polish | CORRECT\n"
     ]
    },
    {
     "name": "stderr",
     "output_type": "stream",
     "text": [
      " 13%|█▎        | 125109/1000000 [01:55<13:37, 1069.73it/s]"
     ]
    },
    {
     "name": "stdout",
     "output_type": "stream",
     "text": [
      "124999/1000000 | 0.019312094897031784 Sienkiewicz | Polish Polish | CORRECT\n"
     ]
    },
    {
     "name": "stderr",
     "output_type": "stream",
     "text": [
      " 13%|█▎        | 130201/1000000 [01:59<13:27, 1076.93it/s]"
     ]
    },
    {
     "name": "stdout",
     "output_type": "stream",
     "text": [
      "129999/1000000 | 0.7672692537307739 Dobrushin | Russian Russian | CORRECT\n"
     ]
    },
    {
     "name": "stderr",
     "output_type": "stream",
     "text": [
      " 14%|█▎        | 135170/1000000 [02:04<13:50, 1041.92it/s]"
     ]
    },
    {
     "name": "stdout",
     "output_type": "stream",
     "text": [
      "134999/1000000 | 1.7088594436645508 Korycan | English Czech | WRONG (Guess : English | Acctual : Czech)\n"
     ]
    },
    {
     "name": "stderr",
     "output_type": "stream",
     "text": [
      " 14%|█▍        | 140147/1000000 [02:09<13:44, 1043.32it/s]"
     ]
    },
    {
     "name": "stdout",
     "output_type": "stream",
     "text": [
      "139999/1000000 | 0.09278237074613571 Yeon | Korean Korean | CORRECT\n"
     ]
    },
    {
     "name": "stderr",
     "output_type": "stream",
     "text": [
      " 15%|█▍        | 145193/1000000 [02:14<13:08, 1084.44it/s]"
     ]
    },
    {
     "name": "stdout",
     "output_type": "stream",
     "text": [
      "144999/1000000 | 3.5566458702087402 Mullins | English French | WRONG (Guess : English | Acctual : French)\n"
     ]
    },
    {
     "name": "stderr",
     "output_type": "stream",
     "text": [
      " 15%|█▌        | 150120/1000000 [02:18<13:06, 1080.01it/s]"
     ]
    },
    {
     "name": "stdout",
     "output_type": "stream",
     "text": [
      "149999/1000000 | 1.3960727453231812 Bonaventura | Italian Spanish | WRONG (Guess : Italian | Acctual : Spanish)\n"
     ]
    },
    {
     "name": "stderr",
     "output_type": "stream",
     "text": [
      " 16%|█▌        | 155125/1000000 [02:26<19:54, 707.37it/s] "
     ]
    },
    {
     "name": "stdout",
     "output_type": "stream",
     "text": [
      "154999/1000000 | 1.2059718370437622 Chong | Vietnamese Korean | WRONG (Guess : Vietnamese | Acctual : Korean)\n"
     ]
    },
    {
     "name": "stderr",
     "output_type": "stream",
     "text": [
      " 16%|█▌        | 160154/1000000 [02:32<14:00, 999.80it/s] "
     ]
    },
    {
     "name": "stdout",
     "output_type": "stream",
     "text": [
      "159999/1000000 | 0.0005926521262153983 Stavropoulos | Greek Greek | CORRECT\n"
     ]
    },
    {
     "name": "stderr",
     "output_type": "stream",
     "text": [
      " 17%|█▋        | 165055/1000000 [02:37<16:58, 819.47it/s] "
     ]
    },
    {
     "name": "stdout",
     "output_type": "stream",
     "text": [
      "164999/1000000 | 0.9164418578147888 Rowley | English English | CORRECT\n"
     ]
    },
    {
     "name": "stderr",
     "output_type": "stream",
     "text": [
      " 17%|█▋        | 170128/1000000 [02:43<14:12, 973.61it/s] "
     ]
    },
    {
     "name": "stdout",
     "output_type": "stream",
     "text": [
      "169999/1000000 | 1.5025854110717773 Li | Vietnamese Korean | WRONG (Guess : Vietnamese | Acctual : Korean)\n"
     ]
    },
    {
     "name": "stderr",
     "output_type": "stream",
     "text": [
      " 18%|█▊        | 175152/1000000 [02:48<12:58, 1059.36it/s]"
     ]
    },
    {
     "name": "stdout",
     "output_type": "stream",
     "text": [
      "174999/1000000 | 2.4967734813690186 Botros | Portuguese Arabic | WRONG (Guess : Portuguese | Acctual : Arabic)\n"
     ]
    },
    {
     "name": "stderr",
     "output_type": "stream",
     "text": [
      " 18%|█▊        | 180144/1000000 [02:53<12:30, 1093.13it/s]"
     ]
    },
    {
     "name": "stdout",
     "output_type": "stream",
     "text": [
      "179999/1000000 | 0.0009098681039176881 Yoshizawa | Japanese Japanese | CORRECT\n"
     ]
    },
    {
     "name": "stderr",
     "output_type": "stream",
     "text": [
      " 19%|█▊        | 185141/1000000 [02:57<12:35, 1079.23it/s]"
     ]
    },
    {
     "name": "stdout",
     "output_type": "stream",
     "text": [
      "184999/1000000 | 0.12674649059772491 Moraitopoulos | Greek Greek | CORRECT\n"
     ]
    },
    {
     "name": "stderr",
     "output_type": "stream",
     "text": [
      " 19%|█▉        | 190194/1000000 [03:02<12:05, 1116.65it/s]"
     ]
    },
    {
     "name": "stdout",
     "output_type": "stream",
     "text": [
      "189999/1000000 | 0.6340600848197937 Mackay | Scottish Scottish | CORRECT\n"
     ]
    },
    {
     "name": "stderr",
     "output_type": "stream",
     "text": [
      " 20%|█▉        | 195160/1000000 [03:06<12:03, 1111.76it/s]"
     ]
    },
    {
     "name": "stdout",
     "output_type": "stream",
     "text": [
      "194999/1000000 | 0.29696041345596313 Ra | Korean Korean | CORRECT\n"
     ]
    },
    {
     "name": "stderr",
     "output_type": "stream",
     "text": [
      " 20%|██        | 200177/1000000 [03:11<12:09, 1096.76it/s]"
     ]
    },
    {
     "name": "stdout",
     "output_type": "stream",
     "text": [
      "199999/1000000 | 0.3747742772102356 Petimezas | Greek Greek | CORRECT\n"
     ]
    },
    {
     "name": "stderr",
     "output_type": "stream",
     "text": [
      " 21%|██        | 205191/1000000 [03:15<12:04, 1097.70it/s]"
     ]
    },
    {
     "name": "stdout",
     "output_type": "stream",
     "text": [
      "204999/1000000 | 4.0457844734191895 Day | Vietnamese English | WRONG (Guess : Vietnamese | Acctual : English)\n"
     ]
    },
    {
     "name": "stderr",
     "output_type": "stream",
     "text": [
      " 21%|██        | 210112/1000000 [03:20<12:04, 1090.53it/s]"
     ]
    },
    {
     "name": "stdout",
     "output_type": "stream",
     "text": [
      "209999/1000000 | 1.9477243423461914 Foong | German Chinese | WRONG (Guess : German | Acctual : Chinese)\n"
     ]
    },
    {
     "name": "stderr",
     "output_type": "stream",
     "text": [
      " 22%|██▏       | 215173/1000000 [03:25<11:58, 1092.89it/s]"
     ]
    },
    {
     "name": "stdout",
     "output_type": "stream",
     "text": [
      "214999/1000000 | 0.1851138472557068 Petrakis | Greek Greek | CORRECT\n"
     ]
    },
    {
     "name": "stderr",
     "output_type": "stream",
     "text": [
      " 22%|██▏       | 220222/1000000 [03:29<11:49, 1099.25it/s]"
     ]
    },
    {
     "name": "stdout",
     "output_type": "stream",
     "text": [
      "219999/1000000 | 0.9622392058372498 Henriques | Portuguese Portuguese | CORRECT\n"
     ]
    },
    {
     "name": "stderr",
     "output_type": "stream",
     "text": [
      " 23%|██▎       | 225129/1000000 [03:34<11:47, 1095.95it/s]"
     ]
    },
    {
     "name": "stdout",
     "output_type": "stream",
     "text": [
      "224999/1000000 | 2.095142364501953 Simon | Dutch Irish | WRONG (Guess : Dutch | Acctual : Irish)\n"
     ]
    },
    {
     "name": "stderr",
     "output_type": "stream",
     "text": [
      " 23%|██▎       | 230219/1000000 [03:39<11:39, 1100.08it/s]"
     ]
    },
    {
     "name": "stdout",
     "output_type": "stream",
     "text": [
      "229999/1000000 | 1.0537118911743164 Suchanka | Japanese Czech | WRONG (Guess : Japanese | Acctual : Czech)\n"
     ]
    },
    {
     "name": "stderr",
     "output_type": "stream",
     "text": [
      " 24%|██▎       | 235119/1000000 [03:43<11:57, 1065.36it/s]"
     ]
    },
    {
     "name": "stdout",
     "output_type": "stream",
     "text": [
      "234999/1000000 | 0.07350566238164902 Narvaez | Spanish Spanish | CORRECT\n"
     ]
    },
    {
     "name": "stderr",
     "output_type": "stream",
     "text": [
      " 24%|██▍       | 240190/1000000 [03:48<12:08, 1042.77it/s]"
     ]
    },
    {
     "name": "stdout",
     "output_type": "stream",
     "text": [
      "239999/1000000 | 0.8959550261497498 Goodridge | English English | CORRECT\n"
     ]
    },
    {
     "name": "stderr",
     "output_type": "stream",
     "text": [
      " 25%|██▍       | 245127/1000000 [03:53<11:34, 1086.48it/s]"
     ]
    },
    {
     "name": "stdout",
     "output_type": "stream",
     "text": [
      "244999/1000000 | 0.05467815324664116 Delacroix | French French | CORRECT\n"
     ]
    },
    {
     "name": "stderr",
     "output_type": "stream",
     "text": [
      " 25%|██▌       | 250172/1000000 [03:57<11:37, 1075.40it/s]"
     ]
    },
    {
     "name": "stdout",
     "output_type": "stream",
     "text": [
      "249999/1000000 | 0.2541266977787018 Doan | Vietnamese Vietnamese | CORRECT\n"
     ]
    },
    {
     "name": "stderr",
     "output_type": "stream",
     "text": [
      " 26%|██▌       | 255131/1000000 [04:02<11:35, 1071.04it/s]"
     ]
    },
    {
     "name": "stdout",
     "output_type": "stream",
     "text": [
      "254999/1000000 | 1.5777606964111328 Ling | Vietnamese Chinese | WRONG (Guess : Vietnamese | Acctual : Chinese)\n"
     ]
    },
    {
     "name": "stderr",
     "output_type": "stream",
     "text": [
      " 26%|██▌       | 260211/1000000 [04:07<11:32, 1068.73it/s]"
     ]
    },
    {
     "name": "stdout",
     "output_type": "stream",
     "text": [
      "259999/1000000 | 0.3632030785083771 Sugimura | Japanese Japanese | CORRECT\n"
     ]
    },
    {
     "name": "stderr",
     "output_type": "stream",
     "text": [
      " 27%|██▋       | 265121/1000000 [04:11<11:42, 1046.29it/s]"
     ]
    },
    {
     "name": "stdout",
     "output_type": "stream",
     "text": [
      "264999/1000000 | 0.1451493203639984 Jang | Korean Korean | CORRECT\n"
     ]
    },
    {
     "name": "stderr",
     "output_type": "stream",
     "text": [
      " 27%|██▋       | 270165/1000000 [04:16<11:50, 1026.64it/s]"
     ]
    },
    {
     "name": "stdout",
     "output_type": "stream",
     "text": [
      "269999/1000000 | 0.04359056428074837 Capitani | Italian Italian | CORRECT\n"
     ]
    },
    {
     "name": "stderr",
     "output_type": "stream",
     "text": [
      " 28%|██▊       | 275139/1000000 [04:21<11:15, 1073.22it/s]"
     ]
    },
    {
     "name": "stdout",
     "output_type": "stream",
     "text": [
      "274999/1000000 | 0.3309023380279541 Christodoulou | Greek Greek | CORRECT\n"
     ]
    },
    {
     "name": "stderr",
     "output_type": "stream",
     "text": [
      " 28%|██▊       | 280159/1000000 [04:26<11:24, 1052.22it/s]"
     ]
    },
    {
     "name": "stdout",
     "output_type": "stream",
     "text": [
      "279999/1000000 | 0.43636268377304077 Higoshi | Japanese Japanese | CORRECT\n"
     ]
    },
    {
     "name": "stderr",
     "output_type": "stream",
     "text": [
      " 29%|██▊       | 285175/1000000 [04:30<10:47, 1103.15it/s]"
     ]
    },
    {
     "name": "stdout",
     "output_type": "stream",
     "text": [
      "284999/1000000 | 0.22340157628059387 Taguchi | Japanese Japanese | CORRECT\n"
     ]
    },
    {
     "name": "stderr",
     "output_type": "stream",
     "text": [
      " 29%|██▉       | 290135/1000000 [04:35<10:49, 1093.15it/s]"
     ]
    },
    {
     "name": "stdout",
     "output_type": "stream",
     "text": [
      "289999/1000000 | 1.1387531757354736 Kramer | Dutch German | WRONG (Guess : Dutch | Acctual : German)\n"
     ]
    },
    {
     "name": "stderr",
     "output_type": "stream",
     "text": [
      " 30%|██▉       | 295182/1000000 [04:40<10:58, 1070.85it/s]"
     ]
    },
    {
     "name": "stdout",
     "output_type": "stream",
     "text": [
      "294999/1000000 | 3.1621508598327637 Fuse | German Japanese | WRONG (Guess : German | Acctual : Japanese)\n"
     ]
    },
    {
     "name": "stderr",
     "output_type": "stream",
     "text": [
      " 30%|██▉       | 299108/1000000 [04:44<11:18, 1032.77it/s]"
     ]
    }
   ],
   "source": [
    "for i in tqdm(range(n_iters)):\n",
    "    category,line,category_tensor,line_tensor = random_training_example(category_lines,all_categories)\n",
    "    output,loss = train(line_tensor,category_tensor)\n",
    "    current_loss += loss\n",
    "    if (i+1) % plot_steps ==0:\n",
    "        all_losses.append(current_loss/plot_steps)\n",
    "        current_loss = 0\n",
    "    if (i+1) % print_steps == 0:\n",
    "        guess = category_from_output(output)\n",
    "        correct = 'CORRECT' if guess == category else f'WRONG (Guess : {guess} | Acctual : {category})'\n",
    "        print(f'{i}/{n_iters} | {loss} {line} | {guess} {category} | {correct}')"
   ]
  },
  {
   "cell_type": "code",
   "execution_count": null,
   "id": "3176697e-b91e-4c3d-9533-a953416b81f8",
   "metadata": {},
   "outputs": [],
   "source": [
    "plt.figure()\n",
    "plt.plot(all_losses)\n",
    "plt.show()"
   ]
  },
  {
   "cell_type": "code",
   "execution_count": null,
   "id": "6423968f-2649-4be6-a956-d67106f3cf2b",
   "metadata": {},
   "outputs": [],
   "source": [
    "def predict(input_line):\n",
    "    print(f'\\n {input_line}')\n",
    "    with torch.no_grad():\n",
    "        line_tensor = line_to_tensor(input_line)\n",
    "        hidden = rnn.init_hidden()\n",
    "        for i in range(line_tensor.size()[0]):\n",
    "            output,hidden = rnn(input_tensor[i],hidden)\n",
    "        guess = category_from_output(output)\n",
    "        print(guess)"
   ]
  },
  {
   "cell_type": "code",
   "execution_count": null,
   "id": "bc0560d5-fb49-4a72-9b43-6aeb67d6ec55",
   "metadata": {},
   "outputs": [],
   "source": [
    "while True:\n",
    "    sentence = input('Input a Name : ')\n",
    "    if sentenc == 'quit':\n",
    "        break\n",
    "    predict(sentence)"
   ]
  },
  {
   "cell_type": "code",
   "execution_count": null,
   "id": "284e8082-8eb7-4ccb-b4c4-a8b7c31dee5e",
   "metadata": {},
   "outputs": [],
   "source": []
  }
 ],
 "metadata": {
  "kernelspec": {
   "display_name": "Python 3.7.3 64-bit ('base': conda)",
   "language": "python",
   "name": "python373jvsc74a57bd0210f9608a45c0278a93c9e0b10db32a427986ab48cfc0d20c139811eb78c4bbc"
  },
  "language_info": {
   "codemirror_mode": {
    "name": "ipython",
    "version": 3
   },
   "file_extension": ".py",
   "mimetype": "text/x-python",
   "name": "python",
   "nbconvert_exporter": "python",
   "pygments_lexer": "ipython3",
   "version": "3.7.7"
  }
 },
 "nbformat": 4,
 "nbformat_minor": 5
}
